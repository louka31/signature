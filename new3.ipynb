{
 "cells": [
  {
   "cell_type": "code",
   "execution_count": 1,
   "id": "291d0f1b",
   "metadata": {},
   "outputs": [],
   "source": [
    "from keras.models import Sequential\n",
    "from keras.layers import Conv2D, ZeroPadding2D\n",
    "from keras.layers import MaxPooling2D\n",
    "from keras.layers import Flatten\n",
    "from keras.layers import Dense\n",
    "from keras.preprocessing.image import ImageDataGenerator\n",
    "from IPython.display import display\n",
    "from PIL import Image"
   ]
  },
  {
   "cell_type": "code",
   "execution_count": 2,
   "id": "4ed0c267",
   "metadata": {},
   "outputs": [],
   "source": [
    "classifier = Sequential()\n",
    "\n",
    "# Layer-1 Convolution\n",
    "classifier.add(Conv2D(96,(11,11),strides=(4,4), input_shape = (150,220,3), activation = 'relu'))\n",
    "\n",
    "# Layer-2 Pooling\n",
    "classifier.add(MaxPooling2D(pool_size = (3,3)))\n",
    "\n",
    "# Layer-3 Convolution\n",
    "classifier.add(ZeroPadding2D(padding=(2, 2)))\n",
    "classifier.add(Conv2D(256,(5,5),strides=(2,2), activation = 'relu'))\n",
    "\n",
    "# Layer-4 Pooling\n",
    "classifier.add(MaxPooling2D(pool_size = (3,3)))\n",
    "\n",
    "# Layer-5 Convolution\n",
    "classifier.add(ZeroPadding2D(padding=(1, 1)))\n",
    "classifier.add(Conv2D(384,(3,3),strides=(1,1), activation = 'relu'))\n",
    "\n",
    "# Layer-6 Convolution\n",
    "classifier.add(ZeroPadding2D(padding=(1, 1)))\n",
    "classifier.add(Conv2D(384,(3,3),strides=(1,1), activation = 'relu'))\n",
    "\n",
    "# Layer-7 Convolution\n",
    "classifier.add(ZeroPadding2D(padding=(1, 1)))\n",
    "classifier.add(Conv2D(256,(3,3),strides=(1,1), activation = 'relu'))\n",
    "\n",
    "\n",
    "# Layer-9 Flattening\n",
    "classifier.add(Flatten())\n",
    "\n",
    "# Layer-10 Full Connection\n",
    "classifier.add(Dense(units = 128, activation = \"relu\"))\n",
    "classifier.add(Dense(units = 1, activation = \"sigmoid\"))"
   ]
  },
  {
   "cell_type": "code",
   "execution_count": 3,
   "id": "edcbe87e",
   "metadata": {},
   "outputs": [],
   "source": [
    "# Compiling the CNN\n",
    "classifier.compile(optimizer = 'adam', loss = 'binary_crossentropy', metrics = ['accuracy'])"
   ]
  },
  {
   "cell_type": "code",
   "execution_count": 4,
   "id": "ac0b6317",
   "metadata": {},
   "outputs": [],
   "source": [
    "train_datagen = ImageDataGenerator(rescale = 1./255, shear_range = 0.2, zoom_range = 0.2, horizontal_flip = True)\n"
   ]
  },
  {
   "cell_type": "code",
   "execution_count": 5,
   "id": "50653497",
   "metadata": {},
   "outputs": [],
   "source": [
    "test_datagen = ImageDataGenerator(rescale=1./255)"
   ]
  },
  {
   "cell_type": "code",
   "execution_count": 6,
   "id": "a2a8d465",
   "metadata": {},
   "outputs": [
    {
     "name": "stdout",
     "output_type": "stream",
     "text": [
      "Found 1712 images belonging to 2 classes.\n"
     ]
    }
   ],
   "source": [
    "training_set = train_datagen.flow_from_directory('dataset', target_size = (150, 220), batch_size = 16, class_mode = 'binary')"
   ]
  },
  {
   "cell_type": "code",
   "execution_count": 7,
   "id": "71a75fc7",
   "metadata": {},
   "outputs": [
    {
     "name": "stdout",
     "output_type": "stream",
     "text": [
      "Found 300 images belonging to 2 classes.\n"
     ]
    }
   ],
   "source": [
    "test_set = test_datagen.flow_from_directory('sample_Signature', target_size = (150, 220), batch_size = 16, class_mode = 'binary')\n"
   ]
  },
  {
   "cell_type": "code",
   "execution_count": 11,
   "id": "29d2a6f5",
   "metadata": {},
   "outputs": [
    {
     "name": "stdout",
     "output_type": "stream",
     "text": [
      "Epoch 1/40\n",
      "107/107 [==============================] - 21s 193ms/step - loss: 0.6669 - accuracy: 0.5596 - val_loss: 0.6883 - val_accuracy: 0.5000\n",
      "Epoch 2/40\n",
      "107/107 [==============================] - 21s 200ms/step - loss: 0.6665 - accuracy: 0.5596 - val_loss: 0.6887 - val_accuracy: 0.5000\n",
      "Epoch 3/40\n",
      "107/107 [==============================] - 22s 201ms/step - loss: 0.6633 - accuracy: 0.5596 - val_loss: 0.6905 - val_accuracy: 0.5000\n",
      "Epoch 4/40\n",
      "107/107 [==============================] - 21s 195ms/step - loss: 0.6641 - accuracy: 0.5789 - val_loss: 0.6885 - val_accuracy: 0.5000\n",
      "Epoch 5/40\n",
      "107/107 [==============================] - 21s 199ms/step - loss: 0.6627 - accuracy: 0.5572 - val_loss: 0.6911 - val_accuracy: 0.5000\n",
      "Epoch 6/40\n",
      "107/107 [==============================] - 21s 195ms/step - loss: 0.6535 - accuracy: 0.5946 - val_loss: 0.6817 - val_accuracy: 0.5200\n",
      "Epoch 7/40\n",
      "107/107 [==============================] - 21s 199ms/step - loss: 0.6926 - accuracy: 0.5567 - val_loss: 0.6886 - val_accuracy: 0.5000\n",
      "Epoch 8/40\n",
      "107/107 [==============================] - 22s 207ms/step - loss: 0.6673 - accuracy: 0.5596 - val_loss: 0.6912 - val_accuracy: 0.5000\n",
      "Epoch 9/40\n",
      "107/107 [==============================] - 23s 213ms/step - loss: 0.6655 - accuracy: 0.5713 - val_loss: 0.6954 - val_accuracy: 0.5033\n",
      "Epoch 10/40\n",
      "107/107 [==============================] - 24s 225ms/step - loss: 0.6600 - accuracy: 0.5911 - val_loss: 0.6877 - val_accuracy: 0.5233\n",
      "Epoch 11/40\n",
      "107/107 [==============================] - 22s 205ms/step - loss: 0.6562 - accuracy: 0.5964 - val_loss: 0.7235 - val_accuracy: 0.4900\n",
      "Epoch 12/40\n",
      "107/107 [==============================] - 23s 213ms/step - loss: 0.6559 - accuracy: 0.6209 - val_loss: 0.7144 - val_accuracy: 0.5133\n",
      "Epoch 13/40\n",
      "107/107 [==============================] - 22s 204ms/step - loss: 0.6488 - accuracy: 0.6139 - val_loss: 0.6882 - val_accuracy: 0.5100\n",
      "Epoch 14/40\n",
      "107/107 [==============================] - 21s 200ms/step - loss: 0.6464 - accuracy: 0.6005 - val_loss: 0.6970 - val_accuracy: 0.5000\n",
      "Epoch 15/40\n",
      "107/107 [==============================] - 22s 202ms/step - loss: 0.6559 - accuracy: 0.6046 - val_loss: 0.7317 - val_accuracy: 0.5200\n",
      "Epoch 16/40\n",
      "107/107 [==============================] - 22s 208ms/step - loss: 0.6301 - accuracy: 0.6244 - val_loss: 0.7641 - val_accuracy: 0.5667\n",
      "Epoch 17/40\n",
      "107/107 [==============================] - 22s 203ms/step - loss: 0.6205 - accuracy: 0.6355 - val_loss: 0.9545 - val_accuracy: 0.5600\n",
      "Epoch 18/40\n",
      "107/107 [==============================] - 23s 219ms/step - loss: 0.6333 - accuracy: 0.6297 - val_loss: 0.7714 - val_accuracy: 0.5467\n",
      "Epoch 19/40\n",
      "107/107 [==============================] - 24s 220ms/step - loss: 0.6139 - accuracy: 0.6390 - val_loss: 1.0313 - val_accuracy: 0.5267\n",
      "Epoch 20/40\n",
      "107/107 [==============================] - 23s 216ms/step - loss: 0.6039 - accuracy: 0.6396 - val_loss: 1.1072 - val_accuracy: 0.5433\n",
      "Epoch 21/40\n",
      "107/107 [==============================] - 22s 202ms/step - loss: 0.5962 - accuracy: 0.6571 - val_loss: 0.7376 - val_accuracy: 0.6067\n",
      "Epoch 22/40\n",
      "107/107 [==============================] - 22s 208ms/step - loss: 0.5853 - accuracy: 0.6671 - val_loss: 1.4813 - val_accuracy: 0.5533\n",
      "Epoch 23/40\n",
      "107/107 [==============================] - 23s 210ms/step - loss: 0.5805 - accuracy: 0.6805 - val_loss: 1.0263 - val_accuracy: 0.5833\n",
      "Epoch 24/40\n",
      "107/107 [==============================] - 22s 209ms/step - loss: 0.5745 - accuracy: 0.6846 - val_loss: 1.4563 - val_accuracy: 0.5600\n",
      "Epoch 25/40\n",
      "107/107 [==============================] - 22s 204ms/step - loss: 0.5720 - accuracy: 0.6834 - val_loss: 0.6818 - val_accuracy: 0.5533\n",
      "Epoch 26/40\n",
      "107/107 [==============================] - 22s 209ms/step - loss: 0.5757 - accuracy: 0.6787 - val_loss: 0.9151 - val_accuracy: 0.5800\n",
      "Epoch 27/40\n",
      "107/107 [==============================] - 23s 218ms/step - loss: 0.5420 - accuracy: 0.7255 - val_loss: 0.7056 - val_accuracy: 0.5067\n",
      "Epoch 28/40\n",
      "107/107 [==============================] - 22s 208ms/step - loss: 0.5542 - accuracy: 0.6928 - val_loss: 1.1650 - val_accuracy: 0.5733\n",
      "Epoch 29/40\n",
      "107/107 [==============================] - 21s 199ms/step - loss: 0.5346 - accuracy: 0.7202 - val_loss: 1.2864 - val_accuracy: 0.6100\n",
      "Epoch 30/40\n",
      "107/107 [==============================] - 22s 202ms/step - loss: 0.5291 - accuracy: 0.7243 - val_loss: 0.6735 - val_accuracy: 0.5533\n",
      "Epoch 31/40\n",
      "107/107 [==============================] - 21s 200ms/step - loss: 0.5433 - accuracy: 0.7243 - val_loss: 0.8009 - val_accuracy: 0.6367\n",
      "Epoch 32/40\n",
      "107/107 [==============================] - 21s 198ms/step - loss: 0.5249 - accuracy: 0.7290 - val_loss: 0.8786 - val_accuracy: 0.6367\n",
      "Epoch 33/40\n",
      "107/107 [==============================] - 22s 202ms/step - loss: 0.5011 - accuracy: 0.7588 - val_loss: 0.8971 - val_accuracy: 0.6300\n",
      "Epoch 34/40\n",
      "107/107 [==============================] - 22s 207ms/step - loss: 0.4747 - accuracy: 0.7529 - val_loss: 1.2250 - val_accuracy: 0.6433\n",
      "Epoch 35/40\n",
      "107/107 [==============================] - 22s 201ms/step - loss: 0.4841 - accuracy: 0.7640 - val_loss: 0.8153 - val_accuracy: 0.6067\n",
      "Epoch 36/40\n",
      "107/107 [==============================] - 22s 205ms/step - loss: 0.4641 - accuracy: 0.7763 - val_loss: 1.1258 - val_accuracy: 0.6100\n",
      "Epoch 37/40\n",
      "107/107 [==============================] - 21s 198ms/step - loss: 0.4574 - accuracy: 0.7687 - val_loss: 0.9003 - val_accuracy: 0.5667\n",
      "Epoch 38/40\n",
      "107/107 [==============================] - 21s 198ms/step - loss: 0.4627 - accuracy: 0.7798 - val_loss: 1.0155 - val_accuracy: 0.6367\n",
      "Epoch 39/40\n",
      "107/107 [==============================] - 21s 199ms/step - loss: 0.4350 - accuracy: 0.7979 - val_loss: 0.9570 - val_accuracy: 0.6300\n",
      "Epoch 40/40\n",
      "107/107 [==============================] - 21s 197ms/step - loss: 0.4179 - accuracy: 0.8113 - val_loss: 1.0252 - val_accuracy: 0.6367\n"
     ]
    },
    {
     "data": {
      "text/plain": [
       "<keras.callbacks.History at 0x1f1b73eafa0>"
      ]
     },
     "execution_count": 11,
     "metadata": {},
     "output_type": "execute_result"
    }
   ],
   "source": [
    "classifier.fit(training_set,epochs = 40,steps_per_epoch=len(training_set), validation_data = test_set, validation_steps = len(test_set))\n"
   ]
  },
  {
   "cell_type": "code",
   "execution_count": 13,
   "id": "0b903d30",
   "metadata": {},
   "outputs": [
    {
     "name": "stdout",
     "output_type": "stream",
     "text": [
      "19/19 [==============================] - 2s 111ms/step - loss: 1.1536 - accuracy: 0.6633\n"
     ]
    }
   ],
   "source": [
    "validation_set_accuracy=classifier.evaluate(test_set)"
   ]
  },
  {
   "cell_type": "code",
   "execution_count": 10,
   "id": "3ae6204a",
   "metadata": {},
   "outputs": [],
   "source": [
    "classifier.save(\"m1.h5\")"
   ]
  },
  {
   "cell_type": "code",
   "execution_count": 14,
   "id": "4e263df0",
   "metadata": {},
   "outputs": [
    {
     "name": "stdout",
     "output_type": "stream",
     "text": [
      "Validation Set Accuracy is :  66.33333563804626\n"
     ]
    }
   ],
   "source": [
    "print(\"Validation Set Accuracy is : \", validation_set_accuracy[1]*100)"
   ]
  }
 ],
 "metadata": {
  "kernelspec": {
   "display_name": "Python 3 (ipykernel)",
   "language": "python",
   "name": "python3"
  },
  "language_info": {
   "codemirror_mode": {
    "name": "ipython",
    "version": 3
   },
   "file_extension": ".py",
   "mimetype": "text/x-python",
   "name": "python",
   "nbconvert_exporter": "python",
   "pygments_lexer": "ipython3",
   "version": "3.9.12"
  }
 },
 "nbformat": 4,
 "nbformat_minor": 5
}
