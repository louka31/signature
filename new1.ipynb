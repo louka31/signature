{
 "cells": [
  {
   "cell_type": "code",
   "execution_count": 1,
   "id": "d77f1374",
   "metadata": {},
   "outputs": [],
   "source": [
    "from keras.models import Sequential\n",
    "from keras.layers import Conv2D, ZeroPadding2D\n",
    "from keras.layers import MaxPooling2D\n",
    "from keras.layers import Flatten\n",
    "from keras.layers import Dense\n",
    "from keras.preprocessing.image import ImageDataGenerator"
   ]
  },
  {
   "cell_type": "code",
   "execution_count": 2,
   "id": "07f72678",
   "metadata": {},
   "outputs": [],
   "source": [
    "# Initialize CNN model\n",
    "classifier = Sequential()\n",
    "\n",
    "# Layer-1 Convolution\n",
    "classifier.add(Conv2D(96,(11,11),strides=(4,4), input_shape = (150,220,3), activation = 'relu'))\n",
    "\n",
    "# Layer-2 Pooling\n",
    "classifier.add(MaxPooling2D(pool_size = (3,3)))\n",
    "\n",
    "# Layer-3 Convolution\n",
    "classifier.add(ZeroPadding2D(padding=(2, 2)))\n",
    "classifier.add(Conv2D(256,(5,5),strides=(2,2), activation = 'relu'))\n",
    "\n",
    "# Layer-4 Pooling\n",
    "classifier.add(MaxPooling2D(pool_size = (3,3)))\n",
    "\n",
    "# Layer-5 Convolution\n",
    "classifier.add(ZeroPadding2D(padding=(1, 1)))\n",
    "classifier.add(Conv2D(384,(3,3),strides=(1,1), activation = 'relu'))\n",
    "\n",
    "# Layer-6 Convolution\n",
    "classifier.add(ZeroPadding2D(padding=(1, 1)))\n",
    "classifier.add(Conv2D(384,(3,3),strides=(1,1), activation = 'relu'))\n",
    "\n",
    "# Layer-7 Convolution\n",
    "classifier.add(ZeroPadding2D(padding=(1, 1)))\n",
    "classifier.add(Conv2D(256,(3,3),strides=(1,1), activation = 'relu'))\n",
    "\n",
    "\n",
    "# Layer-9 Flattening\n",
    "classifier.add(Flatten())\n",
    "\n",
    "# Layer-10 Full Connection\n",
    "classifier.add(Dense(units = 128, activation = \"relu\"))\n",
    "classifier.add(Dense(units = 1, activation = \"sigmoid\"))"
   ]
  },
  {
   "cell_type": "code",
   "execution_count": 3,
   "id": "03a092bd",
   "metadata": {},
   "outputs": [],
   "source": [
    "# Compiling the CNN\n",
    "classifier.compile(optimizer = 'adam', loss = 'binary_crossentropy', metrics = ['accuracy'])"
   ]
  },
  {
   "cell_type": "code",
   "execution_count": 4,
   "id": "369227c3",
   "metadata": {},
   "outputs": [],
   "source": [
    "train_datagen = ImageDataGenerator(rescale = 1./255, shear_range = 0.2, zoom_range = 0.2, horizontal_flip = True)\n"
   ]
  },
  {
   "cell_type": "code",
   "execution_count": 5,
   "id": "aaee80b3",
   "metadata": {},
   "outputs": [],
   "source": [
    "test_datagen = ImageDataGenerator(rescale=1./255)"
   ]
  },
  {
   "cell_type": "code",
   "execution_count": 6,
   "id": "49716cdf",
   "metadata": {},
   "outputs": [
    {
     "name": "stdout",
     "output_type": "stream",
     "text": [
      "Found 1712 images belonging to 2 classes.\n"
     ]
    }
   ],
   "source": [
    "training_set = train_datagen.flow_from_directory('dataset', target_size = (150, 220), batch_size = 32, class_mode = 'binary')"
   ]
  },
  {
   "cell_type": "code",
   "execution_count": 7,
   "id": "159f7be1",
   "metadata": {},
   "outputs": [
    {
     "name": "stdout",
     "output_type": "stream",
     "text": [
      "Found 300 images belonging to 2 classes.\n"
     ]
    }
   ],
   "source": [
    "test_set = test_datagen.flow_from_directory('sample_Signature', target_size = (150, 220), batch_size = 32, class_mode = 'binary')\n"
   ]
  },
  {
   "cell_type": "code",
   "execution_count": 8,
   "id": "57588b7d",
   "metadata": {},
   "outputs": [],
   "source": [
    "from IPython.display import display\n",
    "from PIL import Image"
   ]
  },
  {
   "cell_type": "code",
   "execution_count": 9,
   "id": "d6f7aa99",
   "metadata": {},
   "outputs": [
    {
     "name": "stdout",
     "output_type": "stream",
     "text": [
      "Epoch 1/40\n",
      "54/54 [==============================] - ETA: 0s - loss: 0.6897 - accuracy: 0.5467WARNING:tensorflow:Your input ran out of data; interrupting training. Make sure that your dataset or generator can generate at least `steps_per_epoch * epochs` batches (in this case, 800 batches). You may need to use the repeat() function when building your dataset.\n",
      "54/54 [==============================] - 22s 391ms/step - loss: 0.6897 - accuracy: 0.5467 - val_loss: 0.7030 - val_accuracy: 0.5000\n",
      "Epoch 2/40\n",
      "54/54 [==============================] - 19s 343ms/step - loss: 0.6779 - accuracy: 0.5596\n",
      "Epoch 3/40\n",
      "54/54 [==============================] - 19s 352ms/step - loss: 0.6691 - accuracy: 0.5981\n",
      "Epoch 4/40\n",
      "54/54 [==============================] - 19s 351ms/step - loss: 0.6880 - accuracy: 0.5818\n",
      "Epoch 5/40\n",
      "54/54 [==============================] - 19s 354ms/step - loss: 0.6737 - accuracy: 0.5718\n",
      "Epoch 6/40\n",
      "54/54 [==============================] - 19s 357ms/step - loss: 0.6524 - accuracy: 0.6104\n",
      "Epoch 7/40\n",
      "54/54 [==============================] - 21s 384ms/step - loss: 0.6478 - accuracy: 0.5993\n",
      "Epoch 8/40\n",
      "54/54 [==============================] - 21s 386ms/step - loss: 0.6387 - accuracy: 0.6186\n",
      "Epoch 9/40\n",
      "54/54 [==============================] - 21s 396ms/step - loss: 0.6258 - accuracy: 0.6419\n",
      "Epoch 10/40\n",
      "54/54 [==============================] - 21s 395ms/step - loss: 0.6163 - accuracy: 0.6303\n",
      "Epoch 11/40\n",
      "54/54 [==============================] - 20s 376ms/step - loss: 0.6256 - accuracy: 0.6443\n",
      "Epoch 12/40\n",
      "54/54 [==============================] - 21s 381ms/step - loss: 0.6011 - accuracy: 0.6828\n",
      "Epoch 13/40\n",
      "54/54 [==============================] - 21s 388ms/step - loss: 0.5843 - accuracy: 0.6758\n",
      "Epoch 14/40\n",
      "54/54 [==============================] - 20s 374ms/step - loss: 0.5741 - accuracy: 0.6963\n",
      "Epoch 15/40\n",
      "54/54 [==============================] - 20s 367ms/step - loss: 0.5486 - accuracy: 0.7103\n",
      "Epoch 16/40\n",
      "54/54 [==============================] - 20s 371ms/step - loss: 0.5239 - accuracy: 0.7371\n",
      "Epoch 17/40\n",
      "54/54 [==============================] - 20s 370ms/step - loss: 0.5085 - accuracy: 0.7512\n",
      "Epoch 18/40\n",
      "54/54 [==============================] - 20s 362ms/step - loss: 0.5323 - accuracy: 0.7196\n",
      "Epoch 19/40\n",
      "54/54 [==============================] - 19s 351ms/step - loss: 0.5112 - accuracy: 0.7313\n",
      "Epoch 20/40\n",
      "54/54 [==============================] - 19s 347ms/step - loss: 0.4831 - accuracy: 0.7693\n",
      "Epoch 21/40\n",
      "54/54 [==============================] - 19s 351ms/step - loss: 0.4888 - accuracy: 0.7494\n",
      "Epoch 22/40\n",
      "54/54 [==============================] - 20s 365ms/step - loss: 0.4538 - accuracy: 0.7722\n",
      "Epoch 23/40\n",
      "54/54 [==============================] - 19s 359ms/step - loss: 0.4496 - accuracy: 0.7868\n",
      "Epoch 24/40\n",
      "54/54 [==============================] - 20s 362ms/step - loss: 0.4805 - accuracy: 0.7599\n",
      "Epoch 25/40\n",
      "54/54 [==============================] - 20s 375ms/step - loss: 0.4641 - accuracy: 0.7751\n",
      "Epoch 26/40\n",
      "54/54 [==============================] - 20s 367ms/step - loss: 0.4283 - accuracy: 0.8008\n",
      "Epoch 27/40\n",
      "54/54 [==============================] - 20s 367ms/step - loss: 0.4149 - accuracy: 0.7985\n",
      "Epoch 28/40\n",
      "54/54 [==============================] - 20s 377ms/step - loss: 0.4152 - accuracy: 0.8014\n",
      "Epoch 29/40\n",
      "54/54 [==============================] - 21s 391ms/step - loss: 0.3926 - accuracy: 0.8218\n",
      "Epoch 30/40\n",
      "54/54 [==============================] - 20s 364ms/step - loss: 0.4083 - accuracy: 0.8254\n",
      "Epoch 31/40\n",
      "54/54 [==============================] - 21s 379ms/step - loss: 0.3672 - accuracy: 0.8335\n",
      "Epoch 32/40\n",
      "54/54 [==============================] - 20s 364ms/step - loss: 0.3354 - accuracy: 0.8586\n",
      "Epoch 33/40\n",
      "54/54 [==============================] - 21s 388ms/step - loss: 0.3891 - accuracy: 0.8259\n",
      "Epoch 34/40\n",
      "54/54 [==============================] - 21s 379ms/step - loss: 0.3738 - accuracy: 0.8306\n",
      "Epoch 35/40\n",
      "54/54 [==============================] - 20s 378ms/step - loss: 0.3575 - accuracy: 0.8487\n",
      "Epoch 36/40\n",
      "54/54 [==============================] - 20s 370ms/step - loss: 0.3237 - accuracy: 0.8598\n",
      "Epoch 37/40\n",
      "54/54 [==============================] - 20s 376ms/step - loss: 0.3067 - accuracy: 0.8715\n",
      "Epoch 38/40\n",
      "54/54 [==============================] - 20s 376ms/step - loss: 0.3179 - accuracy: 0.8674\n",
      "Epoch 39/40\n",
      "54/54 [==============================] - 21s 383ms/step - loss: 0.3032 - accuracy: 0.8721\n",
      "Epoch 40/40\n",
      "54/54 [==============================] - 21s 391ms/step - loss: 0.3167 - accuracy: 0.8610\n"
     ]
    },
    {
     "data": {
      "text/plain": [
       "<keras.callbacks.History at 0x2ecdc7c3130>"
      ]
     },
     "execution_count": 9,
     "metadata": {},
     "output_type": "execute_result"
    }
   ],
   "source": [
    "classifier.fit(training_set, epochs = 40, validation_data = test_set, validation_steps = 800)\n"
   ]
  },
  {
   "cell_type": "code",
   "execution_count": 10,
   "id": "79635890",
   "metadata": {},
   "outputs": [
    {
     "name": "stdout",
     "output_type": "stream",
     "text": [
      "10/10 [==============================] - 2s 248ms/step - loss: 1.1350 - accuracy: 0.6767\n"
     ]
    }
   ],
   "source": [
    "validation_set_accuracy=classifier.evaluate(test_set)"
   ]
  },
  {
   "cell_type": "code",
   "execution_count": 11,
   "id": "c0e14408",
   "metadata": {},
   "outputs": [
    {
     "name": "stdout",
     "output_type": "stream",
     "text": [
      "Validation Set Accuracy is :  67.66666769981384\n"
     ]
    }
   ],
   "source": [
    "print(\"Validation Set Accuracy is : \", validation_set_accuracy[1]*100)"
   ]
  },
  {
   "cell_type": "code",
   "execution_count": 12,
   "id": "7d91811f",
   "metadata": {},
   "outputs": [],
   "source": [
    "classifier.save(\"m.h5\")"
   ]
  }
 ],
 "metadata": {
  "kernelspec": {
   "display_name": "Python 3 (ipykernel)",
   "language": "python",
   "name": "python3"
  },
  "language_info": {
   "codemirror_mode": {
    "name": "ipython",
    "version": 3
   },
   "file_extension": ".py",
   "mimetype": "text/x-python",
   "name": "python",
   "nbconvert_exporter": "python",
   "pygments_lexer": "ipython3",
   "version": "3.9.12"
  }
 },
 "nbformat": 4,
 "nbformat_minor": 5
}
