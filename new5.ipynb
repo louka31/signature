{
 "cells": [
  {
   "cell_type": "code",
   "execution_count": 1,
   "id": "355a3f2c",
   "metadata": {},
   "outputs": [],
   "source": [
    "from keras.models import Sequential\n",
    "from keras.layers import Conv2D, ZeroPadding2D\n",
    "from keras.layers import MaxPooling2D\n",
    "from keras.layers import Flatten\n",
    "from keras.layers import Dense\n",
    "from keras.preprocessing.image import ImageDataGenerator\n",
    "from IPython.display import display\n",
    "from PIL import Image"
   ]
  },
  {
   "cell_type": "code",
   "execution_count": 2,
   "id": "db6e276c",
   "metadata": {},
   "outputs": [],
   "source": [
    "classifier = Sequential()\n",
    "\n",
    "# Layer-1 Convolution\n",
    "classifier.add(Conv2D(96,(11,11),strides=(4,4), input_shape = (150,220,3), activation = 'relu'))\n",
    "\n",
    "# Layer-2 Pooling\n",
    "classifier.add(MaxPooling2D(pool_size = (3,3)))\n",
    "\n",
    "# Layer-3 Convolution\n",
    "classifier.add(ZeroPadding2D(padding=(2, 2)))\n",
    "classifier.add(Conv2D(256,(5,5),strides=(2,2), activation = 'relu'))\n",
    "\n",
    "# Layer-4 Pooling\n",
    "classifier.add(MaxPooling2D(pool_size = (3,3)))\n",
    "\n",
    "# Layer-5 Convolution\n",
    "classifier.add(ZeroPadding2D(padding=(1, 1)))\n",
    "classifier.add(Conv2D(384,(3,3),strides=(1,1), activation = 'relu'))\n",
    "\n",
    "# Layer-6 Convolution\n",
    "classifier.add(ZeroPadding2D(padding=(1, 1)))\n",
    "classifier.add(Conv2D(384,(3,3),strides=(1,1), activation = 'relu'))\n",
    "\n",
    "# Layer-7 Convolution\n",
    "classifier.add(ZeroPadding2D(padding=(1, 1)))\n",
    "classifier.add(Conv2D(256,(3,3),strides=(1,1), activation = 'relu'))\n",
    "\n",
    "\n",
    "# Layer-9 Flattening\n",
    "classifier.add(Flatten())\n",
    "\n",
    "# Layer-10 Full Connection\n",
    "classifier.add(Dense(units =512, activation = \"relu\"))\n",
    "classifier.add(Dense(units = 64, activation = \"relu\"))\n",
    "classifier.add(Dense(units = 1, activation = \"sigmoid\"))"
   ]
  },
  {
   "cell_type": "code",
   "execution_count": 3,
   "id": "96f5cdf2",
   "metadata": {},
   "outputs": [],
   "source": [
    "# Compiling the CNN\n",
    "classifier.compile(optimizer = 'adam', loss = 'binary_crossentropy', metrics = ['accuracy'])"
   ]
  },
  {
   "cell_type": "code",
   "execution_count": 4,
   "id": "730274f8",
   "metadata": {},
   "outputs": [],
   "source": [
    "train_datagen = ImageDataGenerator(rescale = 1./255, shear_range = 0.2, zoom_range = 0.2, horizontal_flip = True)\n"
   ]
  },
  {
   "cell_type": "code",
   "execution_count": 5,
   "id": "36bcbd09",
   "metadata": {},
   "outputs": [],
   "source": [
    "test_datagen = ImageDataGenerator(rescale=1./255)"
   ]
  },
  {
   "cell_type": "code",
   "execution_count": 6,
   "id": "d2d793d9",
   "metadata": {},
   "outputs": [
    {
     "name": "stdout",
     "output_type": "stream",
     "text": [
      "Found 1712 images belonging to 2 classes.\n"
     ]
    }
   ],
   "source": [
    "training_set = train_datagen.flow_from_directory('dataset', target_size = (150, 220), batch_size = 16, class_mode = 'binary')"
   ]
  },
  {
   "cell_type": "code",
   "execution_count": 7,
   "id": "a8f85bad",
   "metadata": {},
   "outputs": [
    {
     "name": "stdout",
     "output_type": "stream",
     "text": [
      "Found 300 images belonging to 2 classes.\n"
     ]
    }
   ],
   "source": [
    "test_set = test_datagen.flow_from_directory('sample_Signature', target_size = (150, 220), batch_size = 16, class_mode = 'binary')\n"
   ]
  },
  {
   "cell_type": "code",
   "execution_count": 8,
   "id": "43f237ca",
   "metadata": {},
   "outputs": [
    {
     "name": "stdout",
     "output_type": "stream",
     "text": [
      "Epoch 1/40\n",
      "107/107 [==============================] - 22s 195ms/step - loss: 0.6953 - accuracy: 0.5549 - val_loss: 0.7034 - val_accuracy: 0.5000\n",
      "Epoch 2/40\n",
      "107/107 [==============================] - 21s 200ms/step - loss: 0.6850 - accuracy: 0.5596 - val_loss: 0.6958 - val_accuracy: 0.5000\n",
      "Epoch 3/40\n",
      "107/107 [==============================] - 22s 203ms/step - loss: 0.6879 - accuracy: 0.5596 - val_loss: 0.7025 - val_accuracy: 0.5000\n",
      "Epoch 4/40\n",
      "107/107 [==============================] - 22s 205ms/step - loss: 0.6965 - accuracy: 0.5461 - val_loss: 0.6931 - val_accuracy: 0.5000\n",
      "Epoch 5/40\n",
      "107/107 [==============================] - 22s 203ms/step - loss: 0.6832 - accuracy: 0.5508 - val_loss: 0.6964 - val_accuracy: 0.5000\n",
      "Epoch 6/40\n",
      "107/107 [==============================] - 22s 205ms/step - loss: 0.6806 - accuracy: 0.5637 - val_loss: 0.6952 - val_accuracy: 0.5000\n",
      "Epoch 7/40\n",
      "107/107 [==============================] - 23s 217ms/step - loss: 0.6818 - accuracy: 0.5596 - val_loss: 0.7197 - val_accuracy: 0.5000\n",
      "Epoch 8/40\n",
      "107/107 [==============================] - 25s 233ms/step - loss: 0.6675 - accuracy: 0.5917 - val_loss: 0.8919 - val_accuracy: 0.5367\n",
      "Epoch 9/40\n",
      "107/107 [==============================] - 23s 219ms/step - loss: 0.6462 - accuracy: 0.5859 - val_loss: 0.6916 - val_accuracy: 0.5200\n",
      "Epoch 10/40\n",
      "107/107 [==============================] - 22s 209ms/step - loss: 0.6896 - accuracy: 0.5549 - val_loss: 0.6940 - val_accuracy: 0.5000\n",
      "Epoch 11/40\n",
      "107/107 [==============================] - 24s 226ms/step - loss: 0.6765 - accuracy: 0.5742 - val_loss: 0.6787 - val_accuracy: 0.5567\n",
      "Epoch 12/40\n",
      "107/107 [==============================] - 23s 212ms/step - loss: 0.6620 - accuracy: 0.6040 - val_loss: 0.7739 - val_accuracy: 0.5833\n",
      "Epoch 13/40\n",
      "107/107 [==============================] - 22s 203ms/step - loss: 0.6278 - accuracy: 0.6367 - val_loss: 0.8813 - val_accuracy: 0.5567\n",
      "Epoch 14/40\n",
      "107/107 [==============================] - 22s 210ms/step - loss: 0.6129 - accuracy: 0.6396 - val_loss: 0.8198 - val_accuracy: 0.5167\n",
      "Epoch 15/40\n",
      "107/107 [==============================] - 25s 238ms/step - loss: 0.6045 - accuracy: 0.6519 - val_loss: 1.5783 - val_accuracy: 0.5233\n",
      "Epoch 16/40\n",
      "107/107 [==============================] - 23s 217ms/step - loss: 0.5973 - accuracy: 0.6822 - val_loss: 0.8125 - val_accuracy: 0.5667\n",
      "Epoch 17/40\n",
      "107/107 [==============================] - 22s 201ms/step - loss: 0.6077 - accuracy: 0.6548 - val_loss: 0.6942 - val_accuracy: 0.5267\n",
      "Epoch 18/40\n",
      "107/107 [==============================] - 22s 210ms/step - loss: 0.5874 - accuracy: 0.6776 - val_loss: 0.8424 - val_accuracy: 0.5633\n",
      "Epoch 19/40\n",
      "107/107 [==============================] - 22s 208ms/step - loss: 0.5640 - accuracy: 0.6887 - val_loss: 0.7082 - val_accuracy: 0.5800\n",
      "Epoch 20/40\n",
      "107/107 [==============================] - 22s 207ms/step - loss: 0.5712 - accuracy: 0.6887 - val_loss: 1.2329 - val_accuracy: 0.6100\n",
      "Epoch 21/40\n",
      "107/107 [==============================] - 24s 227ms/step - loss: 0.5443 - accuracy: 0.7097 - val_loss: 1.3534 - val_accuracy: 0.6200\n",
      "Epoch 22/40\n",
      "107/107 [==============================] - 22s 210ms/step - loss: 0.5363 - accuracy: 0.7243 - val_loss: 0.9529 - val_accuracy: 0.6100\n",
      "Epoch 23/40\n",
      "107/107 [==============================] - 22s 204ms/step - loss: 0.5201 - accuracy: 0.7360 - val_loss: 0.8782 - val_accuracy: 0.6100\n",
      "Epoch 24/40\n",
      "107/107 [==============================] - 24s 225ms/step - loss: 0.5052 - accuracy: 0.7325 - val_loss: 1.5426 - val_accuracy: 0.5733\n",
      "Epoch 25/40\n",
      "107/107 [==============================] - 25s 235ms/step - loss: 0.5094 - accuracy: 0.7471 - val_loss: 1.2026 - val_accuracy: 0.6100\n",
      "Epoch 26/40\n",
      "107/107 [==============================] - 23s 219ms/step - loss: 0.5123 - accuracy: 0.7418 - val_loss: 1.1186 - val_accuracy: 0.6200\n",
      "Epoch 27/40\n",
      "107/107 [==============================] - 23s 215ms/step - loss: 0.4792 - accuracy: 0.7664 - val_loss: 0.9936 - val_accuracy: 0.5900\n",
      "Epoch 28/40\n",
      "107/107 [==============================] - 22s 206ms/step - loss: 0.5047 - accuracy: 0.7482 - val_loss: 1.1678 - val_accuracy: 0.6467\n",
      "Epoch 29/40\n",
      "107/107 [==============================] - 22s 203ms/step - loss: 0.4676 - accuracy: 0.7810 - val_loss: 1.1007 - val_accuracy: 0.6033\n",
      "Epoch 30/40\n",
      "107/107 [==============================] - 23s 211ms/step - loss: 0.4644 - accuracy: 0.7956 - val_loss: 1.5000 - val_accuracy: 0.6467\n",
      "Epoch 31/40\n",
      "107/107 [==============================] - 23s 215ms/step - loss: 0.4581 - accuracy: 0.7804 - val_loss: 0.9836 - val_accuracy: 0.6433\n",
      "Epoch 32/40\n",
      "107/107 [==============================] - 25s 234ms/step - loss: 0.4321 - accuracy: 0.8090 - val_loss: 1.1502 - val_accuracy: 0.6333\n",
      "Epoch 33/40\n",
      "107/107 [==============================] - 25s 237ms/step - loss: 0.4024 - accuracy: 0.8183 - val_loss: 1.2111 - val_accuracy: 0.6567\n",
      "Epoch 34/40\n",
      "107/107 [==============================] - 23s 212ms/step - loss: 0.4222 - accuracy: 0.8084 - val_loss: 1.0076 - val_accuracy: 0.6467\n",
      "Epoch 35/40\n",
      "107/107 [==============================] - 23s 215ms/step - loss: 0.5406 - accuracy: 0.6875 - val_loss: 0.7382 - val_accuracy: 0.6133\n",
      "Epoch 36/40\n",
      "107/107 [==============================] - 22s 209ms/step - loss: 0.4034 - accuracy: 0.8265 - val_loss: 1.1358 - val_accuracy: 0.6367\n",
      "Epoch 37/40\n",
      "107/107 [==============================] - 23s 215ms/step - loss: 0.3855 - accuracy: 0.8318 - val_loss: 0.9003 - val_accuracy: 0.6600\n",
      "Epoch 38/40\n",
      "107/107 [==============================] - 22s 207ms/step - loss: 0.3979 - accuracy: 0.8125 - val_loss: 1.1404 - val_accuracy: 0.6200\n",
      "Epoch 39/40\n",
      "107/107 [==============================] - 23s 213ms/step - loss: 0.3854 - accuracy: 0.8218 - val_loss: 1.1384 - val_accuracy: 0.6367\n",
      "Epoch 40/40\n",
      "107/107 [==============================] - 24s 222ms/step - loss: 0.3783 - accuracy: 0.8254 - val_loss: 1.1536 - val_accuracy: 0.6633\n"
     ]
    },
    {
     "data": {
      "text/plain": [
       "<keras.callbacks.History at 0x1f5efe22130>"
      ]
     },
     "execution_count": 8,
     "metadata": {},
     "output_type": "execute_result"
    }
   ],
   "source": [
    "classifier.fit(training_set,epochs = 40,steps_per_epoch = len(training_set), validation_data = test_set, validation_steps =  len(test_set))\n"
   ]
  },
  {
   "cell_type": "code",
   "execution_count": 15,
   "id": "8b758ef1",
   "metadata": {},
   "outputs": [
    {
     "name": "stdout",
     "output_type": "stream",
     "text": [
      "19/19 [==============================] - 2s 108ms/step - loss: 1.1536 - accuracy: 0.6633\n"
     ]
    }
   ],
   "source": [
    "validation_set_accuracy=classifier.evaluate(test_set)"
   ]
  },
  {
   "cell_type": "code",
   "execution_count": 10,
   "id": "e7665e89",
   "metadata": {},
   "outputs": [],
   "source": [
    "classifier.save(\"m2.h5\")"
   ]
  },
  {
   "cell_type": "code",
   "execution_count": 16,
   "id": "9c6af3ee",
   "metadata": {},
   "outputs": [
    {
     "name": "stdout",
     "output_type": "stream",
     "text": [
      "Validation Set Accuracy is :  66.33333563804626\n"
     ]
    }
   ],
   "source": [
    "print(\"Validation Set Accuracy is : \", validation_set_accuracy[1]*100)"
   ]
  }
 ],
 "metadata": {
  "kernelspec": {
   "display_name": "Python 3 (ipykernel)",
   "language": "python",
   "name": "python3"
  },
  "language_info": {
   "codemirror_mode": {
    "name": "ipython",
    "version": 3
   },
   "file_extension": ".py",
   "mimetype": "text/x-python",
   "name": "python",
   "nbconvert_exporter": "python",
   "pygments_lexer": "ipython3",
   "version": "3.9.12"
  }
 },
 "nbformat": 4,
 "nbformat_minor": 5
}
