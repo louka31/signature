{
 "cells": [
  {
   "cell_type": "code",
   "execution_count": 72,
   "id": "2f4d3dd9",
   "metadata": {},
   "outputs": [],
   "source": [
    "from reportlab.pdfgen import canvas\n",
    "\n",
    "def add_image():\n",
    " \n",
    "    from PyPDF2 import PdfFileWriter, PdfFileReader\n",
    "    import io\n",
    " \n",
    "    in_pdf_file = 'cvv.pdf'\n",
    "    out_pdf_file = 'dfd.pdf'\n",
    "    img_file = 'sign.png'\n",
    " \n",
    "    packet = io.BytesIO()\n",
    "    can = canvas.Canvas(packet)\n",
    "    #can.drawString(10, 100, \"Hello world\")\n",
    "    x_start = 1\n",
    "    y_start = 1\n",
    "    can.drawImage(img_file, x_start, y_start, width=80, preserveAspectRatio=True, mask='auto')\n",
    "    can.showPage()\n",
    "    can.showPage()\n",
    "    can.showPage()\n",
    "    can.showPage()\n",
    "    can.showPage()\n",
    "    can.showPage()\n",
    "    can.showPage()\n",
    "    can.showPage()\n",
    "    can.showPage()\n",
    "    can.showPage()\n",
    "    can.showPage()\n",
    "    can.showPage()\n",
    "    can.showPage()\n",
    "    can.showPage()\n",
    "    can.showPage()\n",
    "    can.showPage()\n",
    "    can.showPage()\n",
    "    can.showPage()\n",
    "    can.showPage()\n",
    "    can.showPage()\n",
    "    can.showPage()\n",
    "    can.showPage()\n",
    "    can.showPage()\n",
    "    can.showPage()\n",
    "    can.showPage()\n",
    "    can.showPage()\n",
    "    can.showPage()\n",
    "    can.showPage()\n",
    "    can.showPage()\n",
    "    can.showPage()\n",
    "    can.showPage()\n",
    "    can.showPage()\n",
    "    can.showPage()\n",
    "    can.showPage()\n",
    "    can.showPage()\n",
    "    can.showPage()\n",
    "    can.showPage()\n",
    "    can.showPage()\n",
    "    can.showPage()\n",
    "    can.showPage()\n",
    "    can.showPage()\n",
    "    can.showPage()\n",
    "    can.showPage()\n",
    "    can.showPage()\n",
    "    can.showPage()\n",
    "    can.showPage()\n",
    "    can.showPage()\n",
    "    can.showPage()\n",
    "    can.save()\n",
    " \n",
    "    #move to the beginning of the StringIO buffer\n",
    "    packet.seek(0)\n",
    " \n",
    "    new_pdf = PdfFileReader(packet)\n",
    " \n",
    "    # read the existing PDF\n",
    "    existing_pdf = PdfFileReader(open(in_pdf_file, \"rb\"))\n",
    "    output = PdfFileWriter()\n",
    " \n",
    "    for i in range(len(existing_pdf.pages)):\n",
    "        page = existing_pdf.getPage(i)\n",
    "        page.mergePage(new_pdf.getPage(i))\n",
    "        output.addPage(page)\n",
    " \n",
    "    outputStream = open(out_pdf_file, \"wb\")\n",
    "    output.write(outputStream)\n",
    "    outputStream.close()\n",
    " \n",
    " \n"
   ]
  },
  {
   "cell_type": "code",
   "execution_count": 73,
   "id": "021ab9c2",
   "metadata": {},
   "outputs": [],
   "source": [
    "add_image()"
   ]
  },
  {
   "cell_type": "code",
   "execution_count": 17,
   "id": "561ce044",
   "metadata": {},
   "outputs": [
    {
     "name": "stdout",
     "output_type": "stream",
     "text": [
      "Collecting reportlabNote: you may need to restart the kernel to use updated packages.\n",
      "  Downloading reportlab-3.6.11-cp39-cp39-win_amd64.whl (2.3 MB)\n",
      "     ---------------------------------------- 2.3/2.3 MB 432.0 kB/s eta 0:00:00\n",
      "Requirement already satisfied: pillow>=9.0.0 in c:\\users\\malek moussa\\anaconda3\\envs\\tensorflow\\lib\\site-packages (from reportlab) (9.1.1)\n",
      "Installing collected packages: reportlab\n",
      "Successfully installed reportlab-3.6.11\n",
      "\n"
     ]
    }
   ],
   "source": [
    "pip install reportlab\n"
   ]
  },
  {
   "cell_type": "code",
   "execution_count": 13,
   "id": "fdf068f4",
   "metadata": {},
   "outputs": [
    {
     "ename": "NameError",
     "evalue": "name 'signmark_page' is not defined",
     "output_type": "error",
     "traceback": [
      "\u001b[1;31m---------------------------------------------------------------------------\u001b[0m",
      "\u001b[1;31mNameError\u001b[0m                                 Traceback (most recent call last)",
      "Input \u001b[1;32mIn [13]\u001b[0m, in \u001b[0;36m<cell line: 21>\u001b[1;34m()\u001b[0m\n\u001b[0;32m     19\u001b[0m     \u001b[38;5;28;01mwith\u001b[39;00m \u001b[38;5;28mopen\u001b[39m(output, \u001b[38;5;124m'\u001b[39m\u001b[38;5;124mwb\u001b[39m\u001b[38;5;124m'\u001b[39m) \u001b[38;5;28;01mas\u001b[39;00m out:\n\u001b[0;32m     20\u001b[0m         pdf_writer\u001b[38;5;241m.\u001b[39mwrite(out)\n\u001b[1;32m---> 21\u001b[0m \u001b[43mcreate_sign\u001b[49m\u001b[43m(\u001b[49m\u001b[43minput_pdf\u001b[49m\u001b[38;5;241;43m=\u001b[39;49m\u001b[38;5;124;43m'\u001b[39;49m\u001b[38;5;124;43mcv.pdf\u001b[39;49m\u001b[38;5;124;43m'\u001b[39;49m\u001b[43m,\u001b[49m\u001b[43moutput\u001b[49m\u001b[38;5;241;43m=\u001b[39;49m\u001b[38;5;124;43m'\u001b[39;49m\u001b[38;5;124;43mnews1.pdf\u001b[39;49m\u001b[38;5;124;43m'\u001b[39;49m\u001b[43m,\u001b[49m\u001b[43msign\u001b[49m\u001b[38;5;241;43m=\u001b[39;49m\u001b[38;5;124;43m'\u001b[39;49m\u001b[38;5;124;43msign.pdf\u001b[39;49m\u001b[38;5;124;43m'\u001b[39;49m\u001b[43m)\u001b[49m\n",
      "Input \u001b[1;32mIn [13]\u001b[0m, in \u001b[0;36mcreate_sign\u001b[1;34m(input_pdf, output, sign)\u001b[0m\n\u001b[0;32m     14\u001b[0m \u001b[38;5;66;03m# Sign the last page （ A choice ）\u001b[39;00m\n\u001b[0;32m     15\u001b[0m         page \u001b[38;5;241m=\u001b[39m pdf_reader\u001b[38;5;241m.\u001b[39mgetPage(\u001b[38;5;241m-\u001b[39m\u001b[38;5;241m1\u001b[39m)\n\u001b[1;32m---> 16\u001b[0m         page\u001b[38;5;241m.\u001b[39mmergePage(\u001b[43msignmark_page\u001b[49m)\n\u001b[0;32m     17\u001b[0m         pdf_writer\u001b[38;5;241m.\u001b[39maddPage(page)\n\u001b[0;32m     18\u001b[0m \u001b[38;5;66;03m# Save as new document \u001b[39;00m\n",
      "\u001b[1;31mNameError\u001b[0m: name 'signmark_page' is not defined"
     ]
    }
   ],
   "source": [
    "from PyPDF2 import PdfFileWriter, PdfFileReader\n",
    "def create_sign(input_pdf, output, sign):# The three parameters are ： To be signed pdf, Output the final pdf And signature pdf\n",
    "# Read signature PDF\n",
    "    watermark_obj = PdfFileReader(sign)\n",
    "    watermark_page = watermark_obj.getPage(0)\n",
    "# Read to be signed PDF\n",
    "    pdf_reader = PdfFileReader(input_pdf)\n",
    "    pdf_writer = PdfFileWriter()\n",
    "# Add a signature to the designated position of each page （ A choice ）\n",
    "    for page in range(pdf_reader.getNumPages()):\n",
    "        page = pdf_reader.getPage(page)\n",
    "        page.mergePage(watermark_page)\n",
    "        pdf_writer.addPage(page)\n",
    "# Sign the last page （ A choice ）\n",
    "        page = pdf_reader.getPage(-1)\n",
    "        page.mergePage(signmark_page)\n",
    "        pdf_writer.addPage(page)\n",
    "# Save as new document \n",
    "    with open(output, 'wb') as out:\n",
    "        pdf_writer.write(out)\n",
    "create_sign(input_pdf='cv.pdf',output='news1.pdf',sign='sign.pdf')"
   ]
  },
  {
   "cell_type": "code",
   "execution_count": 10,
   "id": "4b09f3f4",
   "metadata": {},
   "outputs": [],
   "source": [
    "from fitz import fitz, Rect\n",
    "\n",
    "def add_footer(pdf, w, h, x1, x2, site=\"right\", skip_pages = 1):\n",
    "    \n",
    "    pdf=\"cv.pdf\"\n",
    "    w=10\n",
    "    h=10\n",
    "    x1=40\n",
    "    x2=40\n",
    "    # Define which image should be inserted\n",
    "    img = open(\"sign.png\", \"rb\").read()\n",
    "\n",
    "    \n",
    "    if site == \"right\":\n",
    "        rect = fitz.Rect(w * x1, h * x2, w, h)\n",
    "    else:\n",
    "        rect = fitz.Rect(w * x1 * -1 * 0.94, h * x2, w, h)\n",
    "\n",
    "    page = pdf[1]\n",
    "    if not page.is_wrapped:\n",
    "        page.wrap_contents()\n",
    "        page.insertImage(rect, stream=img)"
   ]
  },
  {
   "cell_type": "code",
   "execution_count": 1,
   "id": "ea4d8a5e",
   "metadata": {},
   "outputs": [
    {
     "name": "stdout",
     "output_type": "stream",
     "text": [
      "Collecting PyPDF4==1.27.0\n",
      "  Downloading PyPDF4-1.27.0.tar.gz (63 kB)\n",
      "     -------------------------------------- 63.9/63.9 kB 429.5 kB/s eta 0:00:00\n",
      "  Preparing metadata (setup.py): started\n",
      "  Preparing metadata (setup.py): finished with status 'done'\n",
      "Building wheels for collected packages: PyPDF4\n",
      "  Building wheel for PyPDF4 (setup.py): started\n",
      "  Building wheel for PyPDF4 (setup.py): finished with status 'done'\n",
      "  Created wheel for PyPDF4: filename=PyPDF4-1.27.0-py3-none-any.whl size=61253 sha256=b8f7285e76d7af57ef9fab9b79b7d41d860517ff3dc58a9b16bf8a674ed2dbb7\n",
      "  Stored in directory: c:\\users\\malek moussa\\appdata\\local\\pip\\cache\\wheels\\cd\\0e\\4a\\e6f842a6035ccffff0dab29c39dd06c3427560a82783355a83\n",
      "Successfully built PyPDF4\n",
      "Installing collected packages: PyPDF4\n",
      "Successfully installed PyPDF4-1.27.0\n",
      "Note: you may need to restart the kernel to use updated packages.\n"
     ]
    }
   ],
   "source": [
    "pip install PyPDF4==1.27.0\n"
   ]
  },
  {
   "cell_type": "code",
   "execution_count": 3,
   "id": "6b0ccf64",
   "metadata": {},
   "outputs": [
    {
     "name": "stderr",
     "output_type": "stream",
     "text": [
      "PdfReadWarning: Xref table not zero-indexed. ID numbers for objects will be corrected. [pdf.py:1801]\n"
     ]
    },
    {
     "ename": "FileNotFoundError",
     "evalue": "[Errno 2] No such file or directory: 'geeks.pdf'",
     "output_type": "error",
     "traceback": [
      "\u001b[1;31m---------------------------------------------------------------------------\u001b[0m",
      "\u001b[1;31mFileNotFoundError\u001b[0m                         Traceback (most recent call last)",
      "Input \u001b[1;32mIn [3]\u001b[0m, in \u001b[0;36m<cell line: 46>\u001b[1;34m()\u001b[0m\n\u001b[0;32m     44\u001b[0m \t\tpdf_writer\u001b[38;5;241m.\u001b[39mwrite(out)\n\u001b[0;32m     46\u001b[0m \u001b[38;5;28;01mif\u001b[39;00m \u001b[38;5;18m__name__\u001b[39m \u001b[38;5;241m==\u001b[39m \u001b[38;5;124m\"\u001b[39m\u001b[38;5;124m__main__\u001b[39m\u001b[38;5;124m\"\u001b[39m:\n\u001b[1;32m---> 47\u001b[0m \t\u001b[43mput_watermark\u001b[49m\u001b[43m(\u001b[49m\n\u001b[0;32m     48\u001b[0m \u001b[43m\t\t\u001b[49m\u001b[43minput_pdf\u001b[49m\u001b[38;5;241;43m=\u001b[39;49m\u001b[38;5;124;43m'\u001b[39;49m\u001b[38;5;124;43mcv.pdf\u001b[39;49m\u001b[38;5;124;43m'\u001b[39;49m\u001b[43m,\u001b[49m\u001b[43m \u001b[49m\u001b[38;5;66;43;03m# the original pdf\u001b[39;49;00m\n\u001b[0;32m     49\u001b[0m \u001b[43m\t\t\u001b[49m\u001b[43moutput_pdf\u001b[49m\u001b[38;5;241;43m=\u001b[39;49m\u001b[38;5;124;43m'\u001b[39;49m\u001b[38;5;124;43msign.pdf\u001b[39;49m\u001b[38;5;124;43m'\u001b[39;49m\u001b[43m,\u001b[49m\u001b[43m \u001b[49m\u001b[38;5;66;43;03m# the modified pdf with watermark\u001b[39;49;00m\n\u001b[0;32m     50\u001b[0m \u001b[43m\t\t\u001b[49m\u001b[43mwatermark\u001b[49m\u001b[38;5;241;43m=\u001b[39;49m\u001b[38;5;124;43m'\u001b[39;49m\u001b[38;5;124;43mgeeks.pdf\u001b[39;49m\u001b[38;5;124;43m'\u001b[39;49m\u001b[43m \u001b[49m\u001b[38;5;66;43;03m# the watermark to be provided\u001b[39;49;00m\n\u001b[0;32m     51\u001b[0m \u001b[43m\t\u001b[49m\u001b[43m)\u001b[49m\n",
      "Input \u001b[1;32mIn [3]\u001b[0m, in \u001b[0;36mput_watermark\u001b[1;34m(input_pdf, output_pdf, watermark)\u001b[0m\n\u001b[0;32m     10\u001b[0m \u001b[38;5;28;01mdef\u001b[39;00m \u001b[38;5;21mput_watermark\u001b[39m(input_pdf, output_pdf, watermark):\n\u001b[0;32m     11\u001b[0m \t\n\u001b[0;32m     12\u001b[0m \t\u001b[38;5;66;03m# reads the watermark pdf file through\u001b[39;00m\n\u001b[0;32m     13\u001b[0m \t\u001b[38;5;66;03m# PdfFileReader\u001b[39;00m\n\u001b[1;32m---> 14\u001b[0m \twatermark_instance \u001b[38;5;241m=\u001b[39m \u001b[43mPdfFileReader\u001b[49m\u001b[43m(\u001b[49m\u001b[43mwatermark\u001b[49m\u001b[43m)\u001b[49m\n\u001b[0;32m     16\u001b[0m \t\u001b[38;5;66;03m# fetches the respective page of\u001b[39;00m\n\u001b[0;32m     17\u001b[0m \t\u001b[38;5;66;03m# watermark(1st page)\u001b[39;00m\n\u001b[0;32m     18\u001b[0m \twatermark_page \u001b[38;5;241m=\u001b[39m watermark_instance\u001b[38;5;241m.\u001b[39mgetPage(\u001b[38;5;241m0\u001b[39m)\n",
      "File \u001b[1;32m~\\anaconda3\\envs\\Tensorflow\\lib\\site-packages\\PyPDF4\\pdf.py:1145\u001b[0m, in \u001b[0;36mPdfFileReader.__init__\u001b[1;34m(self, stream, strict, warndest, overwriteWarnings)\u001b[0m\n\u001b[0;32m   1143\u001b[0m     warnings\u001b[38;5;241m.\u001b[39mwarn(\u001b[38;5;124m\"\u001b[39m\u001b[38;5;124mPdfFileReader stream/file object is not in binary mode. It may not be read correctly.\u001b[39m\u001b[38;5;124m\"\u001b[39m, utils\u001b[38;5;241m.\u001b[39mPdfReadWarning)\n\u001b[0;32m   1144\u001b[0m \u001b[38;5;28;01mif\u001b[39;00m isString(stream):\n\u001b[1;32m-> 1145\u001b[0m     fileobj \u001b[38;5;241m=\u001b[39m \u001b[38;5;28;43mopen\u001b[39;49m\u001b[43m(\u001b[49m\u001b[43mstream\u001b[49m\u001b[43m,\u001b[49m\u001b[43m \u001b[49m\u001b[38;5;124;43m'\u001b[39;49m\u001b[38;5;124;43mrb\u001b[39;49m\u001b[38;5;124;43m'\u001b[39;49m\u001b[43m)\u001b[49m\n\u001b[0;32m   1146\u001b[0m     stream \u001b[38;5;241m=\u001b[39m BytesIO(b_(fileobj\u001b[38;5;241m.\u001b[39mread()))\n\u001b[0;32m   1147\u001b[0m     fileobj\u001b[38;5;241m.\u001b[39mclose()\n",
      "\u001b[1;31mFileNotFoundError\u001b[0m: [Errno 2] No such file or directory: 'geeks.pdf'"
     ]
    }
   ],
   "source": [
    "# compatible with Python versions 2.6, 2.7,\n",
    "# and 3.2 - 3.5. (pip3 install pypdf4)\n",
    "from PyPDF4 import PdfFileWriter, PdfFileReader\n",
    "import PyPDF4\n",
    "\n",
    "\n",
    "PyPDF4.PdfFileReader('cv.pdf')\n",
    "\n",
    "\n",
    "def put_watermark(input_pdf, output_pdf, watermark):\n",
    "\t\n",
    "\t# reads the watermark pdf file through\n",
    "\t# PdfFileReader\n",
    "\twatermark_instance = PdfFileReader(watermark)\n",
    "\t\n",
    "\t# fetches the respective page of\n",
    "\t# watermark(1st page)\n",
    "\twatermark_page = watermark_instance.getPage(0)\n",
    "\t\n",
    "\t# reads the input pdf file\n",
    "\tpdf_reader = PdfFileReader(input_pdf)\n",
    "\t\n",
    "\t# It creates a pdf writer object for the\n",
    "\t# output file\n",
    "\tpdf_writer = PdfFileWriter()\n",
    "\n",
    "\t# iterates through the original pdf to\n",
    "\t# merge watermarks\n",
    "\tfor page in range(pdf_reader.getNumPages()):\n",
    "\t\t\n",
    "\t\tpage = pdf_reader.getPage(page)\n",
    "\t\t\n",
    "\t\t# will overlay the watermark_page on top\n",
    "\t\t# of the current page.\n",
    "\t\tpage.mergePage(watermark_page)\n",
    "\t\t\n",
    "\t\t# add that newly merged page to the\n",
    "\t\t# pdf_writer object.\n",
    "\t\tpdf_writer.addPage(page)\n",
    "\n",
    "\twith open(output_pdf, 'wb') as out:\n",
    "\t\t\n",
    "\t\t# writes to the respective output_pdf provided\n",
    "\t\tpdf_writer.write(out)\n",
    "\n",
    "if __name__ == \"__main__\":\n",
    "\tput_watermark(\n",
    "\t\tinput_pdf='cv.pdf', # the original pdf\n",
    "\t\toutput_pdf='sign.pdf', # the modified pdf with watermark\n",
    "\t\twatermark='geeks.pdf' # the watermark to be provided\n",
    "\t)\n"
   ]
  },
  {
   "cell_type": "code",
   "execution_count": 4,
   "id": "d3b2196e",
   "metadata": {},
   "outputs": [
    {
     "name": "stderr",
     "output_type": "stream",
     "text": [
      "PdfReadWarning: Xref table not zero-indexed. ID numbers for objects will be corrected. [_reader.py:1355]\n",
      "PdfReadWarning: Superfluous whitespace found in object header b'1' b'0' [_reader.py:1142]\n",
      "PdfReadWarning: Superfluous whitespace found in object header b'2' b'0' [_reader.py:1142]\n",
      "PdfReadWarning: Superfluous whitespace found in object header b'3' b'0' [_reader.py:1142]\n",
      "PdfReadWarning: Superfluous whitespace found in object header b'6' b'0' [_reader.py:1142]\n",
      "PdfReadWarning: Superfluous whitespace found in object header b'5' b'0' [_reader.py:1142]\n",
      "PdfReadWarning: Superfluous whitespace found in object header b'4' b'0' [_reader.py:1142]\n"
     ]
    }
   ],
   "source": [
    "from PyPDF2 import PdfFileMerger, PdfFileReader, PdfFileWriter\n",
    "\n",
    "pdf_file = r'cv.pdf'\n",
    "watermark = r'sign.pdf'\n",
    "merged = r'merged.pdf'\n",
    "\n",
    "with open(pdf_file, \"rb\") as input_file, open(watermark, \"rb\") as watermark_file:\n",
    "    input_pdf = PdfFileReader(input_file)\n",
    "    watermark_pdf = PdfFileReader(watermark_file)\n",
    "    watermark_page = watermark_pdf.getPage(0)\n",
    "\n",
    "    output = PdfFileWriter()\n",
    "\n",
    "    for i in range(input_pdf.getNumPages()):\n",
    "        pdf_page = input_pdf.getPage(i)\n",
    "        pdf_page.mergePage(watermark_page)\n",
    "        output.addPage(pdf_page)\n",
    "\n",
    "    with open(merged, \"wb\") as merged_file:\n",
    "        output.write(merged_file)"
   ]
  }
 ],
 "metadata": {
  "kernelspec": {
   "display_name": "Python 3 (ipykernel)",
   "language": "python",
   "name": "python3"
  },
  "language_info": {
   "codemirror_mode": {
    "name": "ipython",
    "version": 3
   },
   "file_extension": ".py",
   "mimetype": "text/x-python",
   "name": "python",
   "nbconvert_exporter": "python",
   "pygments_lexer": "ipython3",
   "version": "3.9.12"
  }
 },
 "nbformat": 4,
 "nbformat_minor": 5
}
