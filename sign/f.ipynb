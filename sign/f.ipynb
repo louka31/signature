{
 "cells": [
  {
   "cell_type": "code",
   "execution_count": 28,
   "id": "3ef49686",
   "metadata": {},
   "outputs": [
    {
     "data": {
      "text/plain": [
       "''"
      ]
     },
     "execution_count": 28,
     "metadata": {},
     "output_type": "execute_result"
    }
   ],
   "source": [
    "#ajouter photo a un nouveau pdf\n",
    "from fpdf import FPDF\n",
    "\n",
    "pdf = FPDF()\n",
    "pdf.add_page()\n",
    "pdf.image(\"barcode.png\",x=10,y=10,w=40)\n",
    "pdf.output(\"s.pdf\")"
   ]
  },
  {
   "cell_type": "code",
   "execution_count": 19,
   "id": "9771b100",
   "metadata": {},
   "outputs": [],
   "source": [
    "# importing required modules\n",
    "import PyPDF2\n",
    "pdfs = ['merge.pdf', 'mmm.pdf']\n",
    "output = 'combined_example.pdf'\n",
    "\n",
    "\n",
    "pdfMerger = PdfFileMerger()\n",
    "\n",
    "for pdf in pdfs:\n",
    "    pdfMerger.append(pdf)\n",
    "\n",
    "with open(output, 'wb') as f:\n",
    "    pdfMerger.write(f)\n",
    "\n"
   ]
  },
  {
   "cell_type": "code",
   "execution_count": 23,
   "id": "7e098b48",
   "metadata": {},
   "outputs": [
    {
     "name": "stdout",
     "output_type": "stream",
     "text": [
      "Collecting aspose-words\n",
      "  Downloading aspose_words-22.7.0-py3-none-win_amd64.whl (53.5 MB)\n",
      "     -------------------------------------- 53.5/53.5 MB 371.4 kB/s eta 0:00:00\n",
      "Installing collected packages: aspose-words\n",
      "Successfully installed aspose-words-22.7.0\n",
      "Note: you may need to restart the kernel to use updated packages.\n"
     ]
    }
   ],
   "source": [
    "pip install aspose-words"
   ]
  },
  {
   "cell_type": "code",
   "execution_count": 24,
   "id": "5ae21e28",
   "metadata": {},
   "outputs": [
    {
     "data": {
      "text/plain": [
       "<aspose.words.saving.SaveOutputParameters object at 0x00000245866A7A90>"
      ]
     },
     "execution_count": 24,
     "metadata": {},
     "output_type": "execute_result"
    }
   ],
   "source": [
    "import aspose.words as aw\n",
    "\n",
    "doc = aw.Document()\n",
    "builder = aw.DocumentBuilder(doc)\n",
    "\n",
    "builder.insert_image(\"barcode.png\")\n",
    "\n",
    "doc.save(\"Output.pdf\")"
   ]
  },
  {
   "cell_type": "code",
   "execution_count": 15,
   "id": "e06d990b",
   "metadata": {},
   "outputs": [],
   "source": [
    "# importing the required modules\n",
    "import PyPDF2\n",
    "\n",
    "def add_watermark(wmFile, pageObj):\n",
    "\t# opening watermark pdf file\n",
    "\twmFileObj = open(wmFile, 'rb')\n",
    "\t\n",
    "\t# creating pdf reader object of watermark pdf file\n",
    "\tpdfReader = PyPDF2.PdfFileReader(wmFileObj)\n",
    "\t\n",
    "\t# merging watermark pdf's first page with passed page object.\n",
    "\tpageObj.mergePage(pdfReader.getPage(0))\n",
    "\t\n",
    "\t# closing the watermark pdf file object\n",
    "\twmFileObj.close()\n",
    "\t\n",
    "\t# returning watermarked page object\n",
    "\treturn pageObj\n",
    "\n",
    "def main():\n",
    "\t# watermark pdf file name\n",
    "\tmywatermark = 'merge.pdf'\n",
    "\t\n",
    "\t# original pdf file name\n",
    "\torigFileName = 'mmm.pdf'\n",
    "\t\n",
    "\t# new pdf file name\n",
    "\tnewFileName = 'watermarked_example.pdf'\n",
    "\t\n",
    "\t# creating pdf File object of original pdf\n",
    "\tpdfFileObj = open(origFileName, 'rb')\n",
    "\t\n",
    "\t# creating a pdf Reader object\n",
    "\tpdfReader = PyPDF2.PdfFileReader(pdfFileObj)\n",
    "\n",
    "\t# creating a pdf writer object for new pdf\n",
    "\tpdfWriter = PyPDF2.PdfFileWriter()\n",
    "\t\n",
    "\t# adding watermark to each page\n",
    "\tfor page in range(pdfReader.numPages):\n",
    "\t\t# creating watermarked page object\n",
    "\t\twmpageObj = add_watermark(mywatermark, pdfReader.getPage(page))\n",
    "\t\t\n",
    "\t\t# adding watermarked page object to pdf writer\n",
    "\t\tpdfWriter.addPage(wmpageObj)\n",
    "\n",
    "\t# new pdf file object\n",
    "\tnewFile = open(newFileName, 'wb')\n",
    "\t\n",
    "\t# writing watermarked pages to new file\n",
    "\tpdfWriter.write(newFile)\n",
    "\n",
    "\t# closing the original pdf file object\n",
    "\tpdfFileObj.close()\n",
    "\t# closing the new pdf file object\n",
    "\tnewFile.close()\n",
    "\n",
    "if __name__ == \"__main__\":\n",
    "\t# calling the main function\n",
    "\tmain()\n"
   ]
  },
  {
   "cell_type": "code",
   "execution_count": 13,
   "id": "34c98809",
   "metadata": {},
   "outputs": [
    {
     "ename": "AttributeError",
     "evalue": "'PdfFileReader' object has no attribute 'add_page'",
     "output_type": "error",
     "traceback": [
      "\u001b[1;31m---------------------------------------------------------------------------\u001b[0m",
      "\u001b[1;31mAttributeError\u001b[0m                            Traceback (most recent call last)",
      "Input \u001b[1;32mIn [13]\u001b[0m, in \u001b[0;36m<cell line: 4>\u001b[1;34m()\u001b[0m\n\u001b[0;32m      2\u001b[0m writer \u001b[38;5;241m=\u001b[39m PdfFileWriter() \n\u001b[0;32m      3\u001b[0m pdf \u001b[38;5;241m=\u001b[39m PdfFileReader(\u001b[38;5;28mopen\u001b[39m(\u001b[38;5;124m'\u001b[39m\u001b[38;5;124mmerge.pdf\u001b[39m\u001b[38;5;124m'\u001b[39m, \u001b[38;5;124m'\u001b[39m\u001b[38;5;124mrb\u001b[39m\u001b[38;5;124m'\u001b[39m)) \n\u001b[1;32m----> 4\u001b[0m \u001b[43mpdf\u001b[49m\u001b[38;5;241;43m.\u001b[39;49m\u001b[43madd_page\u001b[49m()\n\u001b[0;32m      5\u001b[0m pdf\u001b[38;5;241m.\u001b[39mimage(\u001b[38;5;124m\"\u001b[39m\u001b[38;5;124mii.png\u001b[39m\u001b[38;5;124m\"\u001b[39m,x\u001b[38;5;241m=\u001b[39m\u001b[38;5;241m10\u001b[39m,y\u001b[38;5;241m=\u001b[39m\u001b[38;5;241m10\u001b[39m,w\u001b[38;5;241m=\u001b[39m\u001b[38;5;241m40\u001b[39m)\n\u001b[0;32m      6\u001b[0m pdf\u001b[38;5;241m.\u001b[39moutput(\u001b[38;5;124m\"\u001b[39m\u001b[38;5;124msampl.pdf\u001b[39m\u001b[38;5;124m\"\u001b[39m)\n",
      "\u001b[1;31mAttributeError\u001b[0m: 'PdfFileReader' object has no attribute 'add_page'"
     ]
    }
   ],
   "source": [
    "from PyPDF2 import PdfFileWriter, PdfFileReader\n",
    "writer = PdfFileWriter() \n",
    "reader = PdfFileReader(open('merge.pdf', 'rb')) \n"
   ]
  },
  {
   "cell_type": "code",
   "execution_count": 9,
   "id": "61d1cb72",
   "metadata": {},
   "outputs": [],
   "source": [
    "#mixer 2pdf\n",
    "from PyPDF2 import PdfFileMerger\n",
    "#Create and instance of PdfFileMerger() class\n",
    "merger = PdfFileMerger()\n",
    "#Create a list with file names\n",
    "pdf_files = ['dazafagibi.pdf', 'f.pdf']\n",
    "#Iterate over the list of file names\n",
    "for pdf_file in pdf_files:\n",
    "    #Append PDF files\n",
    "    merger.append(pdf_file)\n",
    "#Write out the merged PDF\n",
    "merger.write(\"mergeeed.pdf\")\n",
    "merger.close()"
   ]
  },
  {
   "cell_type": "code",
   "execution_count": 6,
   "id": "72cac733",
   "metadata": {},
   "outputs": [
    {
     "data": {
      "text/plain": [
       "''"
      ]
     },
     "execution_count": 6,
     "metadata": {},
     "output_type": "execute_result"
    }
   ],
   "source": [
    "#ajouter photo a un nouveau pdf\n",
    "from fpdf import FPDF\n",
    "\n",
    "pdf = FPDF()\n",
    "pdf.add_page()\n",
    "pdf.set_font('Arial', 'B', 12)\n",
    "pdf.cell(40, 10, 'Hello World!')\n",
    "pdf.image(\"sign.png\",x=10,y=10,w=40)\n",
    "pdf.output(\"f.pdf\")"
   ]
  },
  {
   "cell_type": "code",
   "execution_count": null,
   "id": "c5d88d9c",
   "metadata": {},
   "outputs": [],
   "source": [
    "pip install pypdf2"
   ]
  },
  {
   "cell_type": "code",
   "execution_count": null,
   "id": "a5a3ec13",
   "metadata": {},
   "outputs": [],
   "source": [
    "import PyPDF2\n",
    "inputfile='exemple.pdf'\n",
    "watermark='barcode.pdf'\n",
    "outputfile='final1.pdf'\n",
    "with open(inputfile,'rb')as inputfile :\n",
    "    pdf=PyPDF2.PdfFileReader(inputfile)\n",
    "    with open(watermark,'rb')as watermarkfile :\n",
    "        watermarkpdf=PyPDF2.PdfFileReader(watermarkfile)\n",
    "        p=pdf.getPage(0)\n",
    "        w=watermarkpdf.getPage(0)\n",
    "        p.mergePage(w)\n",
    "        pdfwriter=PyPDF2.PdfFileWriter()\n",
    "        pdfwriter.addPage(p)\n",
    "        with open(outputfile,'wb')as outputfilecontent:\n",
    "            pdfwriter.write(outputfilecontent)\n",
    "\n",
    "        \n",
    "\n",
    "        "
   ]
  },
  {
   "cell_type": "code",
   "execution_count": null,
   "id": "387680c9",
   "metadata": {},
   "outputs": [],
   "source": [
    "pip install fpdf"
   ]
  },
  {
   "cell_type": "code",
   "execution_count": null,
   "id": "ba97f48a",
   "metadata": {},
   "outputs": [],
   "source": [
    "import sys\n",
    "from fpdf import FPDF\n",
    "from pdfrw import PageMerge, PdfReader, PdfWriter\n",
    "\n",
    "IN_FILEPATH = sys.argv[1]\n",
    "OUT_FILEPATH = sys.argv[2]\n",
    "ON_PAGE_INDEX = 1\n",
    "UNDERNEATH = False  # if True, new content will be placed underneath page (painted first)\n",
    "\n",
    "def new_content():\n",
    "    fpdf = FPDF()\n",
    "    fpdf.add_page()\n",
    "    fpdf.set_font(\"helvetica\", size=36)\n",
    "    fpdf.text(50, 50, \"Hello!\")\n",
    "    reader = PdfReader(fdata=bytes(fpdf.output()))\n",
    "    return reader.pages[0]\n",
    "\n",
    "writer = PdfWriter(trailer=PdfReader(IN_FILEPATH))\n",
    "PageMerge(writer.pagearray[ON_PAGE_INDEX]).add(new_content(), prepend=UNDERNEATH).render()\n",
    "writer.write(OUT_FILEPATH)"
   ]
  },
  {
   "cell_type": "code",
   "execution_count": null,
   "id": "9654d717",
   "metadata": {},
   "outputs": [],
   "source": [
    "import sys\n",
    "from fpdf import FPDF\n",
    "from pdfrw import PdfReader, PdfWriter\n",
    "\n",
    "IN_FILEPATH = \"exemple.pdf\"\n",
    "OUT_FILEPATH = \"test.pdf\"\n",
    "NEW_PAGE_INDEX = 1  # set to None to append at the end\n",
    "\n",
    "def new_page():\n",
    "    fpdf = FPDF()\n",
    "    fpdf.add_page()\n",
    "    fpdf.set_font(\"helvetica\", size=36)\n",
    "    fpdf.text(50, 50, \"Hello!\")\n",
    "    reader = PdfReader(fdata=bytes(fpdf.output(), encoding='utf8'))\n",
    "    return reader.pages[0]\n",
    "\n",
    "writer = PdfWriter(trailer=PdfReader(IN_FILEPATH))\n",
    "writer.addpage(new_page(), at_index=NEW_PAGE_INDEX)\n",
    "writer.write(OUT_FILEPATH)"
   ]
  },
  {
   "cell_type": "code",
   "execution_count": null,
   "id": "0498ef91",
   "metadata": {},
   "outputs": [],
   "source": [
    "pip install pdfrw"
   ]
  }
 ],
 "metadata": {
  "kernelspec": {
   "display_name": "Python 3 (ipykernel)",
   "language": "python",
   "name": "python3"
  },
  "language_info": {
   "codemirror_mode": {
    "name": "ipython",
    "version": 3
   },
   "file_extension": ".py",
   "mimetype": "text/x-python",
   "name": "python",
   "nbconvert_exporter": "python",
   "pygments_lexer": "ipython3",
   "version": "3.9.12"
  }
 },
 "nbformat": 4,
 "nbformat_minor": 5
}
