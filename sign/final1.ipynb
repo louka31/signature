{
 "cells": [
  {
   "cell_type": "code",
   "execution_count": 10,
   "id": "ae4d9b2e",
   "metadata": {},
   "outputs": [],
   "source": [
    "from fitz import fitz, Rect\n",
    "\n",
    "def add_footer(pdf, w, h, x1, x2, site=\"right\", skip_pages = 1):\n",
    "    \n",
    "    '''\n",
    "    The higher w , the more left-sided the image will be positioned \n",
    "    The higher h, the less the distance to the bottom of the page\n",
    "    The higher x1, the more left-sided the image will be positioned \n",
    "    The lower x2, the higher the image will be positioned and the bigger the image will get\n",
    "    \n",
    "    If you want to have the image on the left hand side, pass \"left\" as an argument to site.\n",
    "    By default it will be set to \"right\".\n",
    "    \n",
    "    If you want to skip some of the last pages, pass the number of pages to \"skip_pages\". \n",
    "    By default the last page will be skipped. If you want to skip the last two pages, pass 2 to skip_pages and so on\n",
    "    '''\n",
    "    \n",
    "    \n",
    "    # Define which image should be inserted\n",
    "    img = open(\"sign.png\", \"rb\").read()\n",
    "\n",
    "    \n",
    "    if site == \"right\":\n",
    "        rect = fitz.Rect(w * x1, h * x2, w, h)\n",
    "    else:\n",
    "        rect = fitz.Rect(w * x1 * -1 * 0.94, h * x2, w, h)\n",
    "\n",
    "    for i in range(0, 2):\n",
    "        page = pdf[i]\n",
    "        if not page.is_wrapped:\n",
    "            page.wrap_contents()\n",
    "        page.insertImage(rect, stream=img)"
   ]
  },
  {
   "cell_type": "code",
   "execution_count": 11,
   "id": "17028a4d",
   "metadata": {},
   "outputs": [
    {
     "ename": "AttributeError",
     "evalue": "'Page' object has no attribute 'insertImage'",
     "output_type": "error",
     "traceback": [
      "\u001b[1;31m---------------------------------------------------------------------------\u001b[0m",
      "\u001b[1;31mAttributeError\u001b[0m                            Traceback (most recent call last)",
      "Input \u001b[1;32mIn [11]\u001b[0m, in \u001b[0;36m<cell line: 16>\u001b[1;34m()\u001b[0m\n\u001b[0;32m     10\u001b[0m x2 \u001b[38;5;241m=\u001b[39m \u001b[38;5;241m0.96\u001b[39m\n\u001b[0;32m     13\u001b[0m \u001b[38;5;66;03m# we want to insert the image to the left hand side of the pages\u001b[39;00m\n\u001b[0;32m     14\u001b[0m \u001b[38;5;66;03m# additionally, we want to skip the last page\u001b[39;00m\n\u001b[0;32m     15\u001b[0m \u001b[38;5;66;03m# we don't need to specifiy this, because by default the last page will be skipped\u001b[39;00m\n\u001b[1;32m---> 16\u001b[0m \u001b[43madd_footer\u001b[49m\u001b[43m(\u001b[49m\u001b[43mdoc\u001b[49m\u001b[43m,\u001b[49m\u001b[43m \u001b[49m\u001b[43mw\u001b[49m\u001b[43m,\u001b[49m\u001b[43m \u001b[49m\u001b[43mh\u001b[49m\u001b[43m,\u001b[49m\u001b[43m \u001b[49m\u001b[43mx1\u001b[49m\u001b[43m,\u001b[49m\u001b[43m \u001b[49m\u001b[43mx2\u001b[49m\u001b[43m,\u001b[49m\u001b[43m \u001b[49m\u001b[38;5;124;43m\"\u001b[39;49m\u001b[38;5;124;43mleft\u001b[39;49m\u001b[38;5;124;43m\"\u001b[39;49m\u001b[43m)\u001b[49m\n\u001b[0;32m     18\u001b[0m \u001b[38;5;66;03m# add name of the new document\u001b[39;00m\n\u001b[0;32m     19\u001b[0m doc\u001b[38;5;241m.\u001b[39msave(\u001b[38;5;124m'\u001b[39m\u001b[38;5;124mcontract_with_signatures.pdf\u001b[39m\u001b[38;5;124m'\u001b[39m)\n",
      "Input \u001b[1;32mIn [10]\u001b[0m, in \u001b[0;36madd_footer\u001b[1;34m(pdf, w, h, x1, x2, site, skip_pages)\u001b[0m\n\u001b[0;32m     30\u001b[0m \u001b[38;5;28;01mif\u001b[39;00m \u001b[38;5;129;01mnot\u001b[39;00m page\u001b[38;5;241m.\u001b[39mis_wrapped:\n\u001b[0;32m     31\u001b[0m     page\u001b[38;5;241m.\u001b[39mwrap_contents()\n\u001b[1;32m---> 32\u001b[0m \u001b[43mpage\u001b[49m\u001b[38;5;241;43m.\u001b[39;49m\u001b[43minsertImage\u001b[49m(rect, stream\u001b[38;5;241m=\u001b[39mimg)\n",
      "\u001b[1;31mAttributeError\u001b[0m: 'Page' object has no attribute 'insertImage'"
     ]
    }
   ],
   "source": [
    "# which pdf document should be used?\n",
    "doc = fitz.open(\"cv.pdf\")\n",
    "\n",
    "\n",
    "# location parameters\n",
    "# this will place the image at the left/right(depending on the \"site\" argument) bottom corner \n",
    "w = 570\n",
    "h = 810\n",
    "x1 = 0.945\n",
    "x2 = 0.96\n",
    "\n",
    "\n",
    "# we want to insert the image to the left hand side of the pages\n",
    "# additionally, we want to skip the last page\n",
    "# we don't need to specifiy this, because by default the last page will be skipped\n",
    "add_footer(doc, w, h, x1, x2, \"left\")\n",
    "\n",
    "# add name of the new document\n",
    "doc.save('contract_with_signatures.pdf')  "
   ]
  },
  {
   "cell_type": "code",
   "execution_count": 35,
   "id": "e5945deb",
   "metadata": {},
   "outputs": [],
   "source": [
    "from PyPDF2 import PdfFileWriter, PdfFileReader\n",
    "def create_sign(input_pdf, output, sign):# The three parameters are ： To be signed pdf, Output the final pdf And signature pdf\n",
    "# Read signature PDF\n",
    "    watermark_obj = PdfFileReader(sign)\n",
    "    watermark_page = watermark_obj.getPage(0)\n",
    "# Read to be signed PDF\n",
    "    pdf_reader = PdfFileReader(input_pdf)\n",
    "    pdf_writer = PdfFileWriter()\n",
    "# Add a signature to the designated position of each page （ A choice ）\n",
    "# Sign the last page （ A choice ）\n",
    "    page = pdf_reader.getPage(1)\n",
    "    page.mergePage(watermark_page)\n",
    "    pdf_writer.addPage(page)\n",
    "# Save as new document \n",
    "    with open(output, 'wb') as out:\n",
    "        pdf_writer.write(out)\n",
    "create_sign(input_pdf='cv.pdf',output='vvy.pdf',sign='rb.pdf')"
   ]
  },
  {
   "cell_type": "code",
   "execution_count": 34,
   "id": "8c74f5c8",
   "metadata": {},
   "outputs": [
    {
     "data": {
      "text/plain": [
       "''"
      ]
     },
     "execution_count": 34,
     "metadata": {},
     "output_type": "execute_result"
    }
   ],
   "source": [
    "#ajouter photo a un nouveau pdf\n",
    "from fpdf import FPDF\n",
    "\n",
    "pdf = FPDF()\n",
    "pdf.add_page()\n",
    "pdf.image(\"sign.png\",x=150,y=150,w=40)\n",
    "pdf.output(\"rb.pdf\")"
   ]
  }
 ],
 "metadata": {
  "kernelspec": {
   "display_name": "Python 3 (ipykernel)",
   "language": "python",
   "name": "python3"
  },
  "language_info": {
   "codemirror_mode": {
    "name": "ipython",
    "version": 3
   },
   "file_extension": ".py",
   "mimetype": "text/x-python",
   "name": "python",
   "nbconvert_exporter": "python",
   "pygments_lexer": "ipython3",
   "version": "3.9.12"
  }
 },
 "nbformat": 4,
 "nbformat_minor": 5
}
