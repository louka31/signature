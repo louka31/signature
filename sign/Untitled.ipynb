{
 "cells": [
  {
   "cell_type": "code",
   "execution_count": 17,
   "id": "cc6acfcf",
   "metadata": {},
   "outputs": [
    {
     "ename": "AttributeError",
     "evalue": "'Page' object has no attribute 'insertImage'",
     "output_type": "error",
     "traceback": [
      "\u001b[1;31m---------------------------------------------------------------------------\u001b[0m",
      "\u001b[1;31mAttributeError\u001b[0m                            Traceback (most recent call last)",
      "Input \u001b[1;32mIn [17]\u001b[0m, in \u001b[0;36m<cell line: 14>\u001b[1;34m()\u001b[0m\n\u001b[0;32m      5\u001b[0m page \u001b[38;5;241m=\u001b[39m doc[\u001b[38;5;241m0\u001b[39m]\n\u001b[0;32m      7\u001b[0m img_rectangle \u001b[38;5;241m=\u001b[39m fitz\u001b[38;5;241m.\u001b[39mRect(\n\u001b[0;32m      8\u001b[0m     page\u001b[38;5;241m.\u001b[39mrect\u001b[38;5;241m.\u001b[39mwidth \u001b[38;5;241m*\u001b[39m \u001b[38;5;241m0.5\u001b[39m,\n\u001b[0;32m      9\u001b[0m     page\u001b[38;5;241m.\u001b[39mrect\u001b[38;5;241m.\u001b[39mheight \u001b[38;5;241m*\u001b[39m \u001b[38;5;241m0.9\u001b[39m,\n\u001b[0;32m     10\u001b[0m     page\u001b[38;5;241m.\u001b[39mrect\u001b[38;5;241m.\u001b[39mwidth \u001b[38;5;241m*\u001b[39m \u001b[38;5;241m0.9\u001b[39m,\n\u001b[0;32m     11\u001b[0m     page\u001b[38;5;241m.\u001b[39mrect\u001b[38;5;241m.\u001b[39mheight \u001b[38;5;241m*\u001b[39m \u001b[38;5;241m0.95\u001b[39m,\n\u001b[0;32m     12\u001b[0m )\n\u001b[1;32m---> 14\u001b[0m \u001b[43mpage\u001b[49m\u001b[38;5;241;43m.\u001b[39;49m\u001b[43minsertImage\u001b[49m(img_rectangle, filename\u001b[38;5;241m=\u001b[39m\u001b[38;5;124m\"\u001b[39m\u001b[38;5;124msign.png\u001b[39m\u001b[38;5;124m\"\u001b[39m)\n\u001b[0;32m     15\u001b[0m doc\u001b[38;5;241m.\u001b[39msave(\u001b[38;5;124m\"\u001b[39m\u001b[38;5;124mnew-pdf.pdf\u001b[39m\u001b[38;5;124m\"\u001b[39m)\n",
      "\u001b[1;31mAttributeError\u001b[0m: 'Page' object has no attribute 'insertImage'"
     ]
    }
   ],
   "source": [
    "import PyPDF2\n",
    "import fitz\n",
    "\n",
    "doc = fitz.open(\"cv.pdf\")\n",
    "page = doc[0]\n",
    "\n",
    "img_rectangle = fitz.Rect(\n",
    "    page.rect.width * 0.5,\n",
    "    page.rect.height * 0.9,\n",
    "    page.rect.width * 0.9,\n",
    "    page.rect.height * 0.95,\n",
    ")\n",
    "\n",
    "page.insertImage(img_rectangle, filename=\"sign.png\")\n",
    "doc.save(\"new-pdf.pdf\")"
   ]
  },
  {
   "cell_type": "code",
   "execution_count": 14,
   "id": "87ac1869",
   "metadata": {},
   "outputs": [
    {
     "ename": "AttributeError",
     "evalue": "'Page' object has no attribute 'insertImage'",
     "output_type": "error",
     "traceback": [
      "\u001b[1;31m---------------------------------------------------------------------------\u001b[0m",
      "\u001b[1;31mAttributeError\u001b[0m                            Traceback (most recent call last)",
      "Input \u001b[1;32mIn [14]\u001b[0m, in \u001b[0;36m<cell line: 15>\u001b[1;34m()\u001b[0m\n\u001b[0;32m     12\u001b[0m first_page \u001b[38;5;241m=\u001b[39m file_handle[\u001b[38;5;241m0\u001b[39m]\n\u001b[0;32m     14\u001b[0m \u001b[38;5;66;03m# add the image\u001b[39;00m\n\u001b[1;32m---> 15\u001b[0m \u001b[43mfirst_page\u001b[49m\u001b[38;5;241;43m.\u001b[39;49m\u001b[43minsertImage\u001b[49m(image_rectangle, fileName\u001b[38;5;241m=\u001b[39mbarcode_file)\n\u001b[0;32m     16\u001b[0m file_handle\u001b[38;5;241m.\u001b[39msave(output_file)\n",
      "\u001b[1;31mAttributeError\u001b[0m: 'Page' object has no attribute 'insertImage'"
     ]
    }
   ],
   "source": [
    "import fitz\n",
    "\n",
    "input_file = \"cv.pdf\"\n",
    "output_file = \"example-with-barcode.pdf\"\n",
    "barcode_file = \"sign.png\"\n",
    "\n",
    "# define the position (upper-right corner)\n",
    "image_rectangle = fitz.Rect(450,20,550,120)\n",
    "\n",
    "# retrieve the first page of the PDF\n",
    "file_handle = fitz.open(input_file)\n",
    "first_page = file_handle[0]\n",
    "\n",
    "# add the image\n",
    "first_page.insertImage(image_rectangle, fileName=barcode_file)\n",
    "file_handle.save(output_file)"
   ]
  },
  {
   "cell_type": "code",
   "execution_count": 7,
   "id": "1e1e25ae",
   "metadata": {},
   "outputs": [
    {
     "ename": "AttributeError",
     "evalue": "'Page' object has no attribute 'InsertImage'",
     "output_type": "error",
     "traceback": [
      "\u001b[1;31m---------------------------------------------------------------------------\u001b[0m",
      "\u001b[1;31mAttributeError\u001b[0m                            Traceback (most recent call last)",
      "Input \u001b[1;32mIn [7]\u001b[0m, in \u001b[0;36m<cell line: 15>\u001b[1;34m()\u001b[0m\n\u001b[0;32m     12\u001b[0m         page \u001b[38;5;241m=\u001b[39m pdf[i]\n\u001b[0;32m     13\u001b[0m         page\u001b[38;5;241m.\u001b[39mInsertImage(rect, stream\u001b[38;5;241m=\u001b[39mimg)\n\u001b[1;32m---> 15\u001b[0m \u001b[43madd_footer\u001b[49m\u001b[43m(\u001b[49m\u001b[43mdoc\u001b[49m\u001b[43m)\u001b[49m\n\u001b[0;32m     16\u001b[0m doc\u001b[38;5;241m.\u001b[39msave(\u001b[38;5;124m'\u001b[39m\u001b[38;5;124mexemple1.pdf\u001b[39m\u001b[38;5;124m'\u001b[39m)\n",
      "Input \u001b[1;32mIn [7]\u001b[0m, in \u001b[0;36madd_footer\u001b[1;34m(pdf)\u001b[0m\n\u001b[0;32m     11\u001b[0m \u001b[38;5;28;01mfor\u001b[39;00m i \u001b[38;5;129;01min\u001b[39;00m \u001b[38;5;28mrange\u001b[39m(\u001b[38;5;241m0\u001b[39m, \u001b[38;5;241m1\u001b[39m):\n\u001b[0;32m     12\u001b[0m     page \u001b[38;5;241m=\u001b[39m pdf[i]\n\u001b[1;32m---> 13\u001b[0m     \u001b[43mpage\u001b[49m\u001b[38;5;241;43m.\u001b[39;49m\u001b[43mInsertImage\u001b[49m(rect, stream\u001b[38;5;241m=\u001b[39mimg)\n",
      "\u001b[1;31mAttributeError\u001b[0m: 'Page' object has no attribute 'InsertImage'"
     ]
    }
   ],
   "source": [
    "from fitz import fitz, Rect\n",
    "\n",
    "doc = fitz.open(\"cv.pdf\")\n",
    "w = 595\n",
    "h = 842\n",
    "\n",
    "def add_footer(pdf):\n",
    "    img = open(\"sign.png\", \"rb\").read()\n",
    "    rect = fitz.Rect(0, 0.85*h, w, h)\n",
    "\n",
    "    for i in range(0, 1):\n",
    "        page = pdf[i]\n",
    "        page.InsertImage(rect, stream=img)\n",
    "\n",
    "add_footer(doc)\n",
    "doc.save('exemple1.pdf')  "
   ]
  },
  {
   "cell_type": "code",
   "execution_count": null,
   "id": "6920bda3",
   "metadata": {
    "scrolled": true
   },
   "outputs": [],
   "source": [
    "import fitz\n",
    "print(fitz.__doc__)"
   ]
  },
  {
   "cell_type": "code",
   "execution_count": null,
   "id": "6e856c79",
   "metadata": {},
   "outputs": [],
   "source": [
    "pip install --upgrade PyMuPDF\n"
   ]
  },
  {
   "cell_type": "code",
   "execution_count": null,
   "id": "83829d49",
   "metadata": {},
   "outputs": [],
   "source": [
    "image_file = Image.open(open(\"barcode\", 'rb'))"
   ]
  },
  {
   "cell_type": "code",
   "execution_count": 3,
   "id": "682788ff",
   "metadata": {},
   "outputs": [
    {
     "ename": "SyntaxError",
     "evalue": "invalid syntax (1054766055.py, line 1)",
     "output_type": "error",
     "traceback": [
      "\u001b[1;36m  Input \u001b[1;32mIn [3]\u001b[1;36m\u001b[0m\n\u001b[1;33m    from PyPDF2\u001b[0m\n\u001b[1;37m                ^\u001b[0m\n\u001b[1;31mSyntaxError\u001b[0m\u001b[1;31m:\u001b[0m invalid syntax\n"
     ]
    }
   ],
   "source": [
    "from PyPDF2 \n",
    "temp = open('cv.PDF', 'rb')\n",
    "PDF_read = PDFFileReader(temp)\n",
    "first_page = PDF_read.getPage(0)\n",
    "print(first_page.extractText())"
   ]
  },
  {
   "cell_type": "code",
   "execution_count": null,
   "id": "eb920bc6",
   "metadata": {},
   "outputs": [],
   "source": [
    "pip install pdf"
   ]
  },
  {
   "cell_type": "code",
   "execution_count": null,
   "id": "794a214f",
   "metadata": {},
   "outputs": [],
   "source": [
    "pip install PyPDF2"
   ]
  },
  {
   "cell_type": "code",
   "execution_count": null,
   "id": "da5adfaa",
   "metadata": {},
   "outputs": [],
   "source": [
    "import fitz                          # <-- PyMuPDF\n",
    "doc = fitz.open(\"exemple.pdf\")          # open the PDF\n",
    "rect = fitz.Rect(0, 0, 100, 100)     # where to put image: use upper left corner\n",
    "\n",
    "for page in doc:\n",
    "    page.InsertImage(rect, filename = \"barcode.png\")\n",
    "\n",
    "doc.saveIncr()    "
   ]
  },
  {
   "cell_type": "code",
   "execution_count": null,
   "id": "c5c6f137",
   "metadata": {},
   "outputs": [],
   "source": [
    "pip install --upgrade fitz\n"
   ]
  },
  {
   "cell_type": "code",
   "execution_count": null,
   "id": "ca949b5e",
   "metadata": {},
   "outputs": [],
   "source": [
    "pip uninstall fitz"
   ]
  },
  {
   "cell_type": "code",
   "execution_count": null,
   "id": "55f60bb9",
   "metadata": {},
   "outputs": [],
   "source": [
    "pip install --upgrade pip\n"
   ]
  },
  {
   "cell_type": "code",
   "execution_count": null,
   "id": "d4c7a52b",
   "metadata": {},
   "outputs": [],
   "source": [
    "pip install --upgrade pip\n"
   ]
  },
  {
   "cell_type": "code",
   "execution_count": null,
   "id": "9179f757",
   "metadata": {},
   "outputs": [],
   "source": [
    "pip install fitz\n"
   ]
  }
 ],
 "metadata": {
  "kernelspec": {
   "display_name": "Python 3 (ipykernel)",
   "language": "python",
   "name": "python3"
  },
  "language_info": {
   "codemirror_mode": {
    "name": "ipython",
    "version": 3
   },
   "file_extension": ".py",
   "mimetype": "text/x-python",
   "name": "python",
   "nbconvert_exporter": "python",
   "pygments_lexer": "ipython3",
   "version": "3.9.12"
  }
 },
 "nbformat": 4,
 "nbformat_minor": 5
}
